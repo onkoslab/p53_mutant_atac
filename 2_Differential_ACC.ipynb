{
 "cells": [
  {
   "cell_type": "markdown",
   "metadata": {},
   "source": [
    "# Differential Accessibilty Analysis of Mutant vs Wild p53 "
   ]
  },
  {
   "cell_type": "code",
   "execution_count": 9,
   "metadata": {},
   "outputs": [],
   "source": [
    "library(edgeR)\n",
    "library(dplyr)"
   ]
  },
  {
   "cell_type": "code",
   "execution_count": null,
   "metadata": {},
   "outputs": [],
   "source": [
    "setwd('data/')\n",
    "can=c('BRCA','COAD')"
   ]
  },
  {
   "cell_type": "code",
   "execution_count": 11,
   "metadata": {},
   "outputs": [
    {
     "name": "stdout",
     "output_type": "stream",
     "text": [
      "[1] \"BRCA\"\n",
      "[1] 2571\n",
      "[1] \"COAD\"\n",
      "[1] 1783\n"
     ]
    }
   ],
   "source": [
    "for (val in can)\n",
    "{\n",
    "rawcounts <- as.matrix(read.csv(paste(val,'_rawcounts_MvsW.tsv',sep=\"\"),sep=\"\\t\",row.names=\"Region\"))\n",
    "coldata <- read.csv(paste(val,'_condition_MvsW.tsv',sep=\"\"),sep='\\t', row.names='Sample', header=TRUE)\n",
    "\n",
    "cpm_counts=cpm(rawcounts, normalized.lib.sizes=TRUE, log=FALSE, prior.count=5)\n",
    "df2=cpm_counts[apply(cpm_counts[,1:ncol(cpm_counts)], 1, max) > 1,]\n",
    "df2=rawcounts[rownames(df2),1:ncol(rawcounts)]\n",
    "\n",
    "df=df2+5\n",
    "snames<- colnames(df) # Sample names\n",
    "group= coldata$Condition\n",
    "mm <- model.matrix(~0 + group)\n",
    "y <- voom(df, mm, normalize.method='quantile')\n",
    "fit <- lmFit(y, mm)\n",
    "contr <- makeContrasts(groupMutant - groupWild, levels = colnames(coef(fit)))\n",
    "tmp <- contrasts.fit(fit, contr)\n",
    "tmp <- eBayes(tmp)\n",
    "limma_res <- topTable(tmp, sort.by = \"P\", n = Inf)\n",
    "print(val)\n",
    "print(sum(limma_res$adj.P.Val < 0.1 & abs(limma_res$logFC) >= 1))\n",
    "write.table(limma_res, file=paste(paste('../Results/',val,sep=\"\"),'_WM_results.tsv',sep=\"\"),sep='\\t')\n",
    "}"
   ]
  }
 ],
 "metadata": {
  "kernelspec": {
   "display_name": "R",
   "language": "R",
   "name": "ir"
  },
  "language_info": {
   "codemirror_mode": "r",
   "file_extension": ".r",
   "mimetype": "text/x-r-source",
   "name": "R",
   "pygments_lexer": "r",
   "version": "3.6.3"
  }
 },
 "nbformat": 4,
 "nbformat_minor": 4
}
