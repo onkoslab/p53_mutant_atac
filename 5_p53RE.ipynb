{
 "cells": [
  {
   "cell_type": "markdown",
   "metadata": {},
   "source": [
    "## To find Response Element in Significant Peaks"
   ]
  },
  {
   "cell_type": "markdown",
   "metadata": {},
   "source": [
    "Package Description: http://tomateba.github.io/p53retriever/\n",
    "\n",
    "T Tebaldi, S Zaccara, F alessandrini, A Bisio, Y Ciribilli, A Inga. Whole-genome cartography of p53 response elements ranked on transactivation potential. BMC Genomics. 2015 Jun 17;16:464."
   ]
  },
  {
   "cell_type": "code",
   "execution_count": 1,
   "metadata": {},
   "outputs": [],
   "source": [
    "library(\"p53retriever\")\n",
    "setwd(\"Results/p53retriever/\")"
   ]
  },
  {
   "cell_type": "code",
   "execution_count": 2,
   "metadata": {},
   "outputs": [],
   "source": [
    "# Input is a tsv file of all significant regions and corresponding DNA sequence. Sequence extracted using twoBitToFa\n",
    "coldata <- read.csv('/home/jovyan/P53/data/Significant_coordinates.tsv',sep='\\t', header=FALSE)\n",
    "coldata[] <- lapply(coldata, as.character)\n",
    "n=0\n",
    "for (i in coldata$V1)\n",
    "{\n",
    "  hits<-p53track(coldata$V2[coldata$V1==i],seqname=i)\n",
    "  if (!is.null(hits)) { \n",
    "    write.table(hits, file=paste(i,\"tsv\",sep='.'), sep=\"\\t\") \n",
    "  }\n",
    "  n=n+1\n",
    "  \n",
    "}\n"
   ]
  }
 ],
 "metadata": {
  "kernelspec": {
   "display_name": "R",
   "language": "R",
   "name": "ir"
  },
  "language_info": {
   "codemirror_mode": "r",
   "file_extension": ".r",
   "mimetype": "text/x-r-source",
   "name": "R",
   "pygments_lexer": "r",
   "version": "3.6.3"
  }
 },
 "nbformat": 4,
 "nbformat_minor": 4
}
