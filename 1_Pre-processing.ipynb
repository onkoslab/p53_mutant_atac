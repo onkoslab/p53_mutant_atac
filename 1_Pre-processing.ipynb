{
 "cells": [
  {
   "cell_type": "markdown",
   "metadata": {},
   "source": [
    "## Files for Differential Limma Analysis"
   ]
  },
  {
   "cell_type": "code",
   "execution_count": 1,
   "metadata": {
    "scrolled": true
   },
   "outputs": [],
   "source": [
    "import pandas as pd"
   ]
  },
  {
   "cell_type": "markdown",
   "metadata": {},
   "source": [
    "###  Raw count files can be downloaded from:\n",
    "\n",
    "https://gdc.cancer.gov/about-data/publications/ATACseq-AWG <br>\n",
    "\n",
    "<b>All cancer type-specific count matrices in raw counts(ZIP)<b>:<br>\n",
    "https://api.gdc.cancer.gov/data/f0094e76-4a80-4ee1-9ad0-8ffb94aff5f7\n",
    "\n",
    "<br>Store the files in ./data"
   ]
  },
  {
   "cell_type": "code",
   "execution_count": 2,
   "metadata": {
    "scrolled": true
   },
   "outputs": [],
   "source": [
    "for c in ['BRCA','COAD']:\n",
    "    \n",
    "    inp=pd.read_csv('data/'+c+\"_raw_counts.txt\",sep='\\t')\n",
    "    condition=pd.read_csv('data/'+c+\"_condition_MvsW.tsv\",sep='\\t')\n",
    "    inp['Region']=inp[\"seqnames\"]+\":\"+inp[\"start\"].astype(str)+\":\"+inp[\"end\"].astype(str)\n",
    "    inp.index=inp['Region']\n",
    "    inp=inp.drop([\"seqnames\",\"start\",\"end\",\"Region\",\"name\",\"score\"], axis=1)\n",
    "    inp.drop(inp[inp.index.str.contains('chrX')].index,axis=0,inplace=True)\n",
    "    inp.drop(inp[inp.index.str.contains('chrY')].index,axis=0,inplace=True)\n",
    "    inp[condition['Sample']].to_csv('data/'+c+\"_rawcounts_MvsW.tsv\",sep=\"\\t\")"
   ]
  },
  {
   "cell_type": "code",
   "execution_count": null,
   "metadata": {},
   "outputs": [],
   "source": []
  }
 ],
 "metadata": {
  "kernelspec": {
   "display_name": "Python 3",
   "language": "python",
   "name": "python3"
  },
  "language_info": {
   "codemirror_mode": {
    "name": "ipython",
    "version": 3
   },
   "file_extension": ".py",
   "mimetype": "text/x-python",
   "name": "python",
   "nbconvert_exporter": "python",
   "pygments_lexer": "ipython3",
   "version": "3.8.6"
  }
 },
 "nbformat": 4,
 "nbformat_minor": 4
}
