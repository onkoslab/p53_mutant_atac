{
 "cells": [
  {
   "cell_type": "code",
   "execution_count": 1,
   "metadata": {},
   "outputs": [],
   "source": [
    "library(TCGAbiolinks)\n"
   ]
  },
  {
   "cell_type": "code",
   "execution_count": 2,
   "metadata": {},
   "outputs": [
    {
     "name": "stderr",
     "output_type": "stream",
     "text": [
      "--------------------------------------\n",
      "\n",
      "o GDCquery: Searching in GDC database\n",
      "\n",
      "--------------------------------------\n",
      "\n",
      "Genome of reference: hg38\n",
      "\n",
      "--------------------------------------------\n",
      "\n",
      "oo Accessing GDC. This might take a while...\n",
      "\n",
      "--------------------------------------------\n",
      "\n",
      "ooo Project: TCGA-BRCA\n",
      "\n",
      "--------------------\n",
      "\n",
      "oo Filtering results\n",
      "\n",
      "--------------------\n",
      "\n",
      "ooo By data.type\n",
      "\n",
      "ooo By file.type\n",
      "\n",
      "ooo By barcode\n",
      "\n",
      "ooo By sample.type\n",
      "\n",
      "----------------\n",
      "\n",
      "oo Checking data\n",
      "\n",
      "----------------\n",
      "\n",
      "ooo Check if there are duplicated cases\n",
      "\n",
      "ooo Check if there results for the query\n",
      "\n",
      "-------------------\n",
      "\n",
      "o Preparing output\n",
      "\n",
      "-------------------\n",
      "\n",
      "Downloading data for project TCGA-BRCA\n",
      "\n",
      "GDCdownload will download 11 files. A total of 516.893 KB\n",
      "\n",
      "Downloading as: Tue_Apr__6_09_35_09_2021.tar.gz\n",
      "\n"
     ]
    },
    {
     "name": "stdout",
     "output_type": "stream",
     "text": [
      "Downloading: 120 kB     "
     ]
    },
    {
     "name": "stderr",
     "output_type": "stream",
     "text": [
      "Reading copy number variation files\n",
      "\n"
     ]
    },
    {
     "name": "stdout",
     "output_type": "stream",
     "text": [
      "  |======================================================================| 100%\n"
     ]
    }
   ],
   "source": [
    "# BRCA list of hotspot and wild-type samples\n",
    "listsamples <- c('TCGA-A2-A0CX',\n",
    "                 'TCGA-A7-A13E',\n",
    "                 'TCGA-C8-A12M',\n",
    "                 'TCGA-AR-A0TP',\n",
    "                 'TCGA-A7-A0CH',\n",
    "                 'TCGA-A2-A0SW',\n",
    "                 'TCGA-C8-A137',\n",
    "                 'TCGA-C8-A12O',\n",
    "                 'TCGA-AO-A12F',\n",
    "                 'TCGA-BH-A0DV',\n",
    "                 'TCGA-A2-A0T5')\n",
    "# query the copy number segmentation file for primary tumors\n",
    "query <- GDCquery(project = \"TCGA-BRCA\",\n",
    "                  data.category = \"Copy Number Variation\",\n",
    "                  data.type = \"Copy Number Segment\",\n",
    "                  legacy = FALSE,\n",
    "                  barcode = listsamples,\n",
    "                  file.type = \"grch38.seg.v2\",\n",
    "                  sample.type = \"Primary Tumor\")# Download the data\n",
    "GDCdownload(query)\n",
    "data <- GDCprepare(query)\n",
    "write.table(data, file=\"Results/BRCA_grch38.seg.v2_allsamples.csv\", sep=\",\")"
   ]
  },
  {
   "cell_type": "code",
   "execution_count": 3,
   "metadata": {},
   "outputs": [
    {
     "name": "stderr",
     "output_type": "stream",
     "text": [
      "--------------------------------------\n",
      "\n",
      "o GDCquery: Searching in GDC database\n",
      "\n",
      "--------------------------------------\n",
      "\n",
      "Genome of reference: hg38\n",
      "\n",
      "--------------------------------------------\n",
      "\n",
      "oo Accessing GDC. This might take a while...\n",
      "\n",
      "--------------------------------------------\n",
      "\n",
      "ooo Project: TCGA-COAD\n",
      "\n",
      "--------------------\n",
      "\n",
      "oo Filtering results\n",
      "\n",
      "--------------------\n",
      "\n",
      "ooo By data.type\n",
      "\n",
      "ooo By file.type\n",
      "\n",
      "ooo By barcode\n",
      "\n",
      "ooo By sample.type\n",
      "\n",
      "----------------\n",
      "\n",
      "oo Checking data\n",
      "\n",
      "----------------\n",
      "\n",
      "ooo Check if there are duplicated cases\n",
      "\n",
      "ooo Check if there results for the query\n",
      "\n",
      "-------------------\n",
      "\n",
      "o Preparing output\n",
      "\n",
      "-------------------\n",
      "\n",
      "Downloading data for project TCGA-COAD\n",
      "\n",
      "GDCdownload will download 15 files. A total of 636.26 KB\n",
      "\n",
      "Downloading as: Tue_Apr__6_09_35_33_2021.tar.gz\n",
      "\n"
     ]
    },
    {
     "name": "stdout",
     "output_type": "stream",
     "text": [
      "Downloading: 150 kB     "
     ]
    },
    {
     "name": "stderr",
     "output_type": "stream",
     "text": [
      "Reading copy number variation files\n",
      "\n"
     ]
    },
    {
     "name": "stdout",
     "output_type": "stream",
     "text": [
      "  |======================================================================| 100%\n"
     ]
    }
   ],
   "source": [
    "# COAD list of hotspot and wild-type samples\n",
    "listsamples <- c(\"TCGA-AA-A010\",\n",
    "                 \"TCGA-4N-A93T\",\n",
    "                 \"TCGA-AA-A01X\",\n",
    "                 \"TCGA-NH-A6GA\",\n",
    "                 \"TCGA-AA-A02F\",\n",
    "                 \"TCGA-A6-A567\",\n",
    "                 \"TCGA-AD-6889\",\n",
    "                 \"TCGA-NH-A50V\",\n",
    "                 \"TCGA-AA-A01P\",\n",
    "                 \"TCGA-AA-A022\",\n",
    "                 \"TCGA-NH-A8F8\",\n",
    "                 \"TCGA-QG-A5YV\",\n",
    "                 \"TCGA-QL-A97D\",\n",
    "                 \"TCGA-DM-A28G\",\n",
    "                 \"TCGA-AY-A71X\")\n",
    "# query the copy number segmentation file for primary tumors\n",
    "query <- GDCquery(project = \"TCGA-COAD\",\n",
    "                  data.category = \"Copy Number Variation\",\n",
    "                  data.type = \"Copy Number Segment\",\n",
    "                  legacy = FALSE,\n",
    "                  barcode = listsamples,\n",
    "                  file.type = \"grch38.seg.v2\",\n",
    "                  sample.type = \"Primary Tumor\")# Download the data\n",
    "GDCdownload(query)\n",
    "data <- GDCprepare(query)\n",
    "write.table(data, file=\"Results/COAD_grch38.seg.v2_allsamples.csv\", sep=\",\")"
   ]
  }
 ],
 "metadata": {
  "kernelspec": {
   "display_name": "R",
   "language": "R",
   "name": "ir"
  },
  "language_info": {
   "codemirror_mode": "r",
   "file_extension": ".r",
   "mimetype": "text/x-r-source",
   "name": "R",
   "pygments_lexer": "r",
   "version": "3.6.3"
  }
 },
 "nbformat": 4,
 "nbformat_minor": 4
}
